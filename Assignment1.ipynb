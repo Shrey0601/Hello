{
  "nbformat": 4,
  "nbformat_minor": 5,
  "metadata": {
    "kernelspec": {
      "display_name": "Python 3",
      "language": "python",
      "name": "python3"
    },
    "language_info": {
      "codemirror_mode": {
        "name": "ipython",
        "version": 3
      },
      "file_extension": ".py",
      "mimetype": "text/x-python",
      "name": "python",
      "nbconvert_exporter": "python",
      "pygments_lexer": "ipython3",
      "version": "3.7.10"
    },
    "papermill": {
      "default_parameters": {},
      "duration": 9.697855,
      "end_time": "2021-05-31T12:38:24.515403",
      "environment_variables": {},
      "exception": null,
      "input_path": "__notebook__.ipynb",
      "output_path": "__notebook__.ipynb",
      "parameters": {},
      "start_time": "2021-05-31T12:38:14.817548",
      "version": "2.3.3"
    },
    "colab": {
      "name": "Assignment1.ipynb",
      "provenance": [],
      "include_colab_link": true
    }
  },
  "cells": [
    {
      "cell_type": "markdown",
      "metadata": {
        "id": "view-in-github",
        "colab_type": "text"
      },
      "source": [
        "<a href=\"https://colab.research.google.com/github/Shrey0601/Hello/blob/main/Assignment1.ipynb\" target=\"_parent\"><img src=\"https://colab.research.google.com/assets/colab-badge.svg\" alt=\"Open In Colab\"/></a>"
      ]
    },
    {
      "cell_type": "code",
      "metadata": {
        "_cell_guid": "b1076dfc-b9ad-4769-8c92-a6c4dae69d19",
        "_uuid": "8f2839f25d086af736a60e9eeb907d3b93b6e0e5",
        "execution": {
          "iopub.execute_input": "2021-05-31T12:38:21.834606Z",
          "iopub.status.busy": "2021-05-31T12:38:21.834182Z",
          "iopub.status.idle": "2021-05-31T12:38:21.849226Z",
          "shell.execute_reply": "2021-05-31T12:38:21.848465Z",
          "shell.execute_reply.started": "2021-05-31T12:33:00.491743Z"
        },
        "papermill": {
          "duration": 0.035708,
          "end_time": "2021-05-31T12:38:21.849388",
          "exception": false,
          "start_time": "2021-05-31T12:38:21.813680",
          "status": "completed"
        },
        "tags": [],
        "id": "confidential-speaking",
        "outputId": "fdf8ddbf-897c-49d0-bbe1-64a498ad9a4a"
      },
      "source": [
        "# This Python 3 environment comes with many helpful analytics libraries installed\n",
        "# It is defined by the kaggle/python Docker image: https://github.com/kaggle/docker-python\n",
        "# For example, here's several helpful packages to load\n",
        "\n",
        "import numpy as np # linear algebra\n",
        "import pandas as pd # data processing, CSV file I/O (e.g. pd.read_csv)\n",
        "import matplotlib.pyplot as plt\n",
        "\n",
        "# Input data files are available in the read-only \"../input/\" directory\n",
        "# For example, running this (by clicking run or pressing Shift+Enter) will list all files under the input directory\n",
        "\n",
        "import os\n",
        "for dirname, _, filenames in os.walk('/kaggle/input'):\n",
        "    for filename in filenames:\n",
        "        print(os.path.join(dirname, filename))\n",
        "\n",
        "# You can write up to 20GB to the current directory (/kaggle/working/) that gets preserved as output when you create a version using \"Save & Run All\" \n",
        "# You can also write temporary files to /kaggle/temp/, but they won't be saved outside of the current session"
      ],
      "id": "confidential-speaking",
      "execution_count": null,
      "outputs": [
        {
          "output_type": "stream",
          "text": [
            "/kaggle/input/up-crime-data-year-2019/MR data - Compiled Data Set.csv\n"
          ],
          "name": "stdout"
        }
      ]
    },
    {
      "cell_type": "code",
      "metadata": {
        "execution": {
          "iopub.execute_input": "2021-05-31T12:38:21.879859Z",
          "iopub.status.busy": "2021-05-31T12:38:21.879353Z",
          "iopub.status.idle": "2021-05-31T12:38:21.968884Z",
          "shell.execute_reply": "2021-05-31T12:38:21.969321Z",
          "shell.execute_reply.started": "2021-05-31T12:33:00.512467Z"
        },
        "papermill": {
          "duration": 0.106427,
          "end_time": "2021-05-31T12:38:21.969445",
          "exception": false,
          "start_time": "2021-05-31T12:38:21.863018",
          "status": "completed"
        },
        "tags": [],
        "id": "funky-audio",
        "outputId": "e0b05209-59cb-47b6-fe92-2f38f9afb32a"
      },
      "source": [
        "df = pd.read_csv('../input/up-crime-data-year-2019/MR data - Compiled Data Set.csv')\n",
        "df.fillna(0,inplace=True)\n",
        "#print(df['City '])\n",
        "print(df.columns)\n",
        "df.to_string"
      ],
      "id": "funky-audio",
      "execution_count": null,
      "outputs": [
        {
          "output_type": "stream",
          "text": [
            "Index(['City ', 'Title', 'Text',\n",
            "       'Murder Happened with reason:\\n1:Property/Land Disputes,\\n2:Family Dispute\\n3:Petty Quarrels,\\n4:Money Disputes, \\n5:Personal Vendetta, \\n6:Love Affairs, \\n7:Casteism\\n8: Unknown/other',\n",
            "       'Number of child victims', 'Number of male victims(adult)',\n",
            "       'Number of female victims(adult)',\n",
            "       'Kidnnaping:\\nNumber of child victims', 'Number of male(adult) ',\n",
            "       'Number of female(adult)',\n",
            "       'Crime Against Women ( Combined ):\\n1. Murder with Rape \\n2. Dowry Deaths(Sec. 3048)\\n3. Suicide(sec 305/306)\\n4. Kidnapping(All)\\n5. Acid Attack(Sec. 326A IPC)\\n6. Cruelty by Husband/in-laws((Sec.498 A IPC)\\n7. Rape only(Sec. 376 or 511 IPC)\\n8. Assault on Women with Intent to Outrage her Modesty (Sec. 354 IPC)\\n9. Cyber Crimes against Women\\n10. Protection of Children from Sexual Offences Act',\n",
            "       'Number of adult victims', 'Number of childs invoved'],\n",
            "      dtype='object')\n"
          ],
          "name": "stdout"
        },
        {
          "output_type": "execute_result",
          "data": {
            "text/plain": [
              "<bound method DataFrame.to_string of          City                                               Title  \\\n",
              "0    Ghaziabad  Minor molests mute girl, sent to observation home   \n",
              "1    Ghaziabad  Family out to buy car robbed of Rs 1 lakh by b...   \n",
              "2    Ghaziabad  This gang posed as cops to extort youths, couples   \n",
              "3    Ghaziabad  Residents object to loud music, thrashed in Gh...   \n",
              "4    Ghaziabad  Man kills self after being refused money for d...   \n",
              "..         ...                                                ...   \n",
              "461    Lucknow  Top cop stirs row, says girl filed case after ...   \n",
              "462    Lucknow  Unnao girl passes away after 40-hour battle fo...   \n",
              "463    Lucknow  Lucknow: Stalker thrashes dad, girl poisons he...   \n",
              "464    Lucknow    Uttar Pradesh: Woman accuses boss of harassment   \n",
              "465    Lucknow  Buyer knifes fish vendor to death over Rs 10 i...   \n",
              "\n",
              "                                                  Text  \\\n",
              "0    GHAZIABAD: A 12-year-old boy was sent to an ob...   \n",
              "1    GHAZIABAD: A family that had visited an automo...   \n",
              "2    GHAZIABAD: Five persons were arrested on Monda...   \n",
              "3    Ghaziabad: Four tenants, including two soldier...   \n",
              "4    GHAZIABAD: A 25-year-old allegedly committed s...   \n",
              "..                                                 ...   \n",
              "461  LUCKNOW: Hours after the horrific crime in Unn...   \n",
              "462  LUCKNOW/UNNAO: The Unnao gang-rape survivor wh...   \n",
              "463  LUCKNOW: A 17-year-old girl consumed poison at...   \n",
              "464  LUCKNOW: A 30-year-old employee of a real esta...   \n",
              "465  LUCKNOW: A customer knifed a fish vendor to de...   \n",
              "\n",
              "    Murder Happened with reason:\\n1:Property/Land Disputes,\\n2:Family Dispute\\n3:Petty Quarrels,\\n4:Money Disputes, \\n5:Personal Vendetta, \\n6:Love Affairs, \\n7:Casteism\\n8: Unknown/other  \\\n",
              "0                                                    0                                                                                                                                        \n",
              "1                                                    0                                                                                                                                        \n",
              "2                                                    0                                                                                                                                        \n",
              "3                                                    0                                                                                                                                        \n",
              "4                                                    0                                                                                                                                        \n",
              "..                                                 ...                                                                                                                                        \n",
              "461                                                  0                                                                                                                                        \n",
              "462                                                  0                                                                                                                                        \n",
              "463                                                  0                                                                                                                                        \n",
              "464                                                  0                                                                                                                                        \n",
              "465                                     Petty Quarrels                                                                                                                                        \n",
              "\n",
              "     Number of child victims  Number of male victims(adult)  \\\n",
              "0                        0.0                            0.0   \n",
              "1                        0.0                            0.0   \n",
              "2                        0.0                            0.0   \n",
              "3                        0.0                            0.0   \n",
              "4                        0.0                            0.0   \n",
              "..                       ...                            ...   \n",
              "461                      0.0                            0.0   \n",
              "462                      0.0                            0.0   \n",
              "463                      0.0                            0.0   \n",
              "464                      0.0                            0.0   \n",
              "465                      0.0                            1.0   \n",
              "\n",
              "     Number of female victims(adult)  Kidnnaping:\\nNumber of child victims  \\\n",
              "0                                0.0                                   0.0   \n",
              "1                                0.0                                   0.0   \n",
              "2                                0.0                                   0.0   \n",
              "3                                0.0                                   0.0   \n",
              "4                                0.0                                   0.0   \n",
              "..                               ...                                   ...   \n",
              "461                              0.0                                   0.0   \n",
              "462                              0.0                                   0.0   \n",
              "463                              0.0                                   0.0   \n",
              "464                              0.0                                   0.0   \n",
              "465                              0.0                                   0.0   \n",
              "\n",
              "     Number of male(adult)   Number of female(adult)  \\\n",
              "0                       0.0                      0.0   \n",
              "1                       0.0                      0.0   \n",
              "2                       0.0                      0.0   \n",
              "3                       0.0                      0.0   \n",
              "4                       0.0                      0.0   \n",
              "..                      ...                      ...   \n",
              "461                     0.0                      0.0   \n",
              "462                     0.0                      0.0   \n",
              "463                     0.0                      0.0   \n",
              "464                     0.0                      0.0   \n",
              "465                     0.0                      0.0   \n",
              "\n",
              "    Crime Against Women ( Combined ):\\n1. Murder with Rape \\n2. Dowry Deaths(Sec. 3048)\\n3. Suicide(sec 305/306)\\n4. Kidnapping(All)\\n5. Acid Attack(Sec. 326A IPC)\\n6. Cruelty by Husband/in-laws((Sec.498 A IPC)\\n7. Rape only(Sec. 376 or 511 IPC)\\n8. Assault on Women with Intent to Outrage her Modesty (Sec. 354 IPC)\\n9. Cyber Crimes against Women\\n10. Protection of Children from Sexual Offences Act  \\\n",
              "0                                                 8,10                                                                                                                                                                                                                                                                                                                                                             \n",
              "1                                                    0                                                                                                                                                                                                                                                                                                                                                             \n",
              "2                                                    0                                                                                                                                                                                                                                                                                                                                                             \n",
              "3                                                    0                                                                                                                                                                                                                                                                                                                                                             \n",
              "4                                                    0                                                                                                                                                                                                                                                                                                                                                             \n",
              "..                                                 ...                                                                                                                                                                                                                                                                                                                                                             \n",
              "461                                                  7                                                                                                                                                                                                                                                                                                                                                             \n",
              "462                                                  1                                                                                                                                                                                                                                                                                                                                                             \n",
              "463                                                3,8                                                                                                                                                                                                                                                                                                                                                             \n",
              "464                                                  8                                                                                                                                                                                                                                                                                                                                                             \n",
              "465                                                  0                                                                                                                                                                                                                                                                                                                                                             \n",
              "\n",
              "     Number of adult victims  Number of childs invoved  \n",
              "0                        0.0                       3.0  \n",
              "1                        0.0                       0.0  \n",
              "2                        0.0                       0.0  \n",
              "3                        0.0                       0.0  \n",
              "4                        0.0                       0.0  \n",
              "..                       ...                       ...  \n",
              "461                      1.0                       0.0  \n",
              "462                      1.0                       0.0  \n",
              "463                      0.0                       1.0  \n",
              "464                      1.0                       0.0  \n",
              "465                      0.0                       0.0  \n",
              "\n",
              "[466 rows x 13 columns]>"
            ]
          },
          "metadata": {
            "tags": []
          },
          "execution_count": 2
        }
      ]
    },
    {
      "cell_type": "code",
      "metadata": {
        "execution": {
          "iopub.execute_input": "2021-05-31T12:38:21.998016Z",
          "iopub.status.busy": "2021-05-31T12:38:21.997534Z",
          "iopub.status.idle": "2021-05-31T12:38:22.114871Z",
          "shell.execute_reply": "2021-05-31T12:38:22.115271Z",
          "shell.execute_reply.started": "2021-05-31T12:33:00.576151Z"
        },
        "papermill": {
          "duration": 0.132988,
          "end_time": "2021-05-31T12:38:22.115401",
          "exception": false,
          "start_time": "2021-05-31T12:38:21.982413",
          "status": "completed"
        },
        "tags": [],
        "id": "international-creature",
        "outputId": "727343ac-2855-4020-810d-926490ad0052"
      },
      "source": [
        "City_dict={'Ghaziabad':0, 'Lucknow':0, 'Kanpur':0}\n",
        "\n",
        "for city in df['City ']:\n",
        "  City_dict[city]+=1\n",
        "Explode=[0,0.05,0]\n",
        "plt.pie(City_dict.values(),explode=Explode,labels=City_dict.keys(),startangle=90)\n",
        "plt.axis('equal')\n",
        "plt.title(\"Cases as per City\")\n",
        "plt.show()\n",
        "print(City_dict)"
      ],
      "id": "international-creature",
      "execution_count": null,
      "outputs": [
        {
          "output_type": "display_data",
          "data": {
            "image/png": "[encoded data removed]",
            "text/plain": [
              "<Figure size 432x288 with 1 Axes>"
            ]
          },
          "metadata": {
            "tags": []
          }
        },
        {
          "output_type": "stream",
          "text": [
            "{'Ghaziabad': 167, 'Lucknow': 202, 'Kanpur': 97}\n"
          ],
          "name": "stdout"
        }
      ]
    },
    {
      "cell_type": "markdown",
      "metadata": {
        "papermill": {
          "duration": 0.013668,
          "end_time": "2021-05-31T12:38:22.142873",
          "exception": false,
          "start_time": "2021-05-31T12:38:22.129205",
          "status": "completed"
        },
        "tags": [],
        "id": "deluxe-investor"
      },
      "source": [
        "This Pie Chart shows the number of crimes comitted in the city, with Lucknow being at the top of the crime list.\n",
        "This is an alarming situation, not only for Lucknow city, but also for Ghaziabad and Kanpur city."
      ],
      "id": "deluxe-investor"
    },
    {
      "cell_type": "code",
      "metadata": {
        "execution": {
          "iopub.execute_input": "2021-05-31T12:38:22.173757Z",
          "iopub.status.busy": "2021-05-31T12:38:22.173288Z",
          "iopub.status.idle": "2021-05-31T12:38:22.283438Z",
          "shell.execute_reply": "2021-05-31T12:38:22.282721Z",
          "shell.execute_reply.started": "2021-05-31T12:33:00.68572Z"
        },
        "papermill": {
          "duration": 0.126544,
          "end_time": "2021-05-31T12:38:22.283577",
          "exception": false,
          "start_time": "2021-05-31T12:38:22.157033",
          "status": "completed"
        },
        "tags": [],
        "id": "driving-belief",
        "outputId": "10a633eb-5a5a-465d-874b-c2ad5746dd64"
      },
      "source": [
        "Murder_dict={'Child':0,'Female':0,'Male':0}\n",
        "Ghaziabad_Murder={'Child':0,'Female':0,'Male':0}\n",
        "Lucknow_Murder={'Child':0,'Female':0,'Male':0}\n",
        "Kanpur_Murder={'Child':0,'Female':0,'Male':0}\n",
        "\n",
        "count=0\n",
        "for row in df['Number of child victims']:\n",
        "    Murder_dict['Child']+=row\n",
        "    if(row>0):\n",
        "      if df['City '][count] == 'Ghaziabad':\n",
        "        Ghaziabad_Murder['Child']+=1\n",
        "      elif df['City '][count] == 'Lucknow':\n",
        "        Lucknow_Murder['Child']+=1\n",
        "      else:\n",
        "        Kanpur_Murder['Child']+=1\n",
        "    count+=1\n",
        "\n",
        "count=0\n",
        "for row in df['Number of male victims(adult)']:\n",
        "    Murder_dict['Male']+=row\n",
        "    if(row>0):\n",
        "      if df['City '][count] == 'Ghaziabad':\n",
        "        Ghaziabad_Murder['Male']+=1\n",
        "      elif df['City '][count] == 'Lucknow':\n",
        "        Lucknow_Murder['Male']+=1\n",
        "      else:\n",
        "        Kanpur_Murder['Male']+=1\n",
        "    count+=1\n",
        "\n",
        "count=0\n",
        "for row in df['Number of female victims(adult)']:\n",
        "    Murder_dict['Female']+=row\n",
        "    if(row>0):\n",
        "      if df['City '][count] == 'Ghaziabad':\n",
        "        Ghaziabad_Murder['Female']+=1\n",
        "      elif df['City '][count] == 'Lucknow':\n",
        "        Lucknow_Murder['Female']+=1\n",
        "      else:\n",
        "        Kanpur_Murder['Female']+=1\n",
        "    count+=1\n",
        "    \n",
        "divisions=[\"Male\", \"Child\",\"Female\"]\n",
        "Murders=[Murder_dict['Male'],Murder_dict['Child'],Murder_dict['Female']]\n",
        "plt.bar(divisions,Murders,color='red')\n",
        "plt.xlabel(\"Types of people\")\n",
        "plt.ylabel(\"Murders\")\n",
        "plt.title(\"Murders in UP\")\n",
        "plt.show()\n",
        "print(pd.DataFrame(list(Murder_dict.items())))"
      ],
      "id": "driving-belief",
      "execution_count": null,
      "outputs": [
        {
          "output_type": "display_data",
          "data": {
            "image/png": "[encoded data removed]",
            "text/plain": [
              "<Figure size 432x288 with 1 Axes>"
            ]
          },
          "metadata": {
            "tags": [],
            "needs_background": "light"
          }
        },
        {
          "output_type": "stream",
          "text": [
            "        0      1\n",
            "0   Child   19.0\n",
            "1  Female   52.0\n",
            "2    Male  103.0\n"
          ],
          "name": "stdout"
        }
      ]
    },
    {
      "cell_type": "markdown",
      "metadata": {
        "papermill": {
          "duration": 0.021665,
          "end_time": "2021-05-31T12:38:22.327533",
          "exception": false,
          "start_time": "2021-05-31T12:38:22.305868",
          "status": "completed"
        },
        "tags": [],
        "id": "absolute-hopkins"
      },
      "source": [
        "This bar graph shows the number of Murders comitted as per the victim's age and gender, with the number of men succumbed to death, being the highest ."
      ],
      "id": "absolute-hopkins"
    },
    {
      "cell_type": "code",
      "metadata": {
        "execution": {
          "iopub.execute_input": "2021-05-31T12:38:22.392999Z",
          "iopub.status.busy": "2021-05-31T12:38:22.390155Z",
          "iopub.status.idle": "2021-05-31T12:38:22.527094Z",
          "shell.execute_reply": "2021-05-31T12:38:22.527614Z",
          "shell.execute_reply.started": "2021-05-31T12:33:00.832508Z"
        },
        "papermill": {
          "duration": 0.17845,
          "end_time": "2021-05-31T12:38:22.527766",
          "exception": false,
          "start_time": "2021-05-31T12:38:22.349316",
          "status": "completed"
        },
        "tags": [],
        "id": "primary-tablet",
        "outputId": "1f64faf2-793d-4b5d-8538-71ad091e1bb0"
      },
      "source": [
        "Reason_Murder={'Property Disputes':0,'Money Disputes':0,'Family Dispute':0,'Petty Quarrels':0,'Personal Vendetta':0,'Love Affairs':0,'Casteism':0,'Unknown reasons':0}\n",
        "\n",
        "for row in df['Murder Happened with reason:\\n1:Property/Land Disputes,\\n2:Family Dispute\\n3:Petty Quarrels,\\n4:Money Disputes, \\n5:Personal Vendetta, \\n6:Love Affairs, \\n7:Casteism\\n8: Unknown/other']:\n",
        "    if not row == 0:\n",
        "        if row in Reason_Murder:\n",
        "            Reason_Murder[row]+=1\n",
        "plt.bar(Reason_Murder.keys(),Reason_Murder.values(),color='red')\n",
        "plt.xlabel(\"Reasons for Murder\")\n",
        "plt.ylabel(\"Number of Murders\")\n",
        "plt.title(\"Reasons for Murder in Up\")\n",
        "plt.xticks(rotation='vertical')\n",
        "plt.show()\n",
        "print(pd.DataFrame(list(Reason_Murder.items())))"
      ],
      "id": "primary-tablet",
      "execution_count": null,
      "outputs": [
        {
          "output_type": "display_data",
          "data": {
            "image/png": "[encoded data removed]",
            "text/plain": [
              "<Figure size 432x288 with 1 Axes>"
            ]
          },
          "metadata": {
            "tags": [],
            "needs_background": "light"
          }
        },
        {
          "output_type": "stream",
          "text": [
            "                   0   1\n",
            "0  Property Disputes  10\n",
            "1     Money Disputes  14\n",
            "2     Family Dispute  16\n",
            "3     Petty Quarrels  19\n",
            "4  Personal Vendetta  16\n",
            "5       Love Affairs  30\n",
            "6           Casteism   2\n",
            "7    Unknown reasons  40\n"
          ],
          "name": "stdout"
        }
      ]
    },
    {
      "cell_type": "markdown",
      "metadata": {
        "papermill": {
          "duration": 0.015783,
          "end_time": "2021-05-31T12:38:22.559588",
          "exception": false,
          "start_time": "2021-05-31T12:38:22.543805",
          "status": "completed"
        },
        "tags": [],
        "id": "respected-oxford"
      },
      "source": [
        "The reasons for the Murders commited are plotted above, with most of the reasons being unknown.\n",
        "\n",
        "But the cases of Murders due to love affairs are also very high in the state and police should take a strict action against the criminals."
      ],
      "id": "respected-oxford"
    },
    {
      "cell_type": "code",
      "metadata": {
        "execution": {
          "iopub.execute_input": "2021-05-31T12:38:22.610889Z",
          "iopub.status.busy": "2021-05-31T12:38:22.598249Z",
          "iopub.status.idle": "2021-05-31T12:38:22.738049Z",
          "shell.execute_reply": "2021-05-31T12:38:22.737627Z",
          "shell.execute_reply.started": "2021-05-31T12:33:01.050328Z"
        },
        "papermill": {
          "duration": 0.162778,
          "end_time": "2021-05-31T12:38:22.738155",
          "exception": false,
          "start_time": "2021-05-31T12:38:22.575377",
          "status": "completed"
        },
        "tags": [],
        "id": "underlying-arkansas",
        "outputId": "5e5af3e5-34e9-49a1-e161-9fb0a1e311cc"
      },
      "source": [
        "divisions=['Ghaziabad','Lucknow','Kanpur']\n",
        "index=np.arange(3)\n",
        "width=0.25\n",
        "Child=[Ghaziabad_Murder['Child'],Lucknow_Murder['Child'],Kanpur_Murder['Child']]\n",
        "Female=[Ghaziabad_Murder['Female'],Lucknow_Murder['Female'],Kanpur_Murder['Female']]\n",
        "Male=[Ghaziabad_Murder['Male'],Lucknow_Murder['Male'],Kanpur_Murder['Male']]\n",
        "\n",
        "plt.bar(index,Child,width,color='green',label='Child')\n",
        "plt.bar(index+width*2,Female,width,color='blue',label='Female')\n",
        "plt.bar(index+width,Male,width,color='red',label='Male')\n",
        "\n",
        "plt.xlabel(\"Types of People\")\n",
        "plt.ylabel(\"Number of Cases\")\n",
        "plt.xticks(index+width,divisions)\n",
        "plt.title(\"Murders in UP according to Cities\")\n",
        "plt.legend(loc='best')\n",
        "print(\"Murders in Ghaziabad :\",end=\" \")\n",
        "print(Ghaziabad_Murder)\n",
        "print(\"Murders in Lucknow :\",end=\" \")\n",
        "print(Lucknow_Murder)\n",
        "print(\"Murders in Kanpur :\",end=\" \")\n",
        "print(Kanpur_Murder)\n"
      ],
      "id": "underlying-arkansas",
      "execution_count": null,
      "outputs": [
        {
          "output_type": "stream",
          "text": [
            "Murders in Ghaziabad : {'Child': 4, 'Female': 13, 'Male': 30}\n",
            "Murders in Lucknow : {'Child': 3, 'Female': 22, 'Male': 41}\n",
            "Murders in Kanpur : {'Child': 6, 'Female': 12, 'Male': 24}\n"
          ],
          "name": "stdout"
        },
        {
          "output_type": "display_data",
          "data": {
            "image/png": "[encoded data removed]",
            "text/plain": [
              "<Figure size 432x288 with 1 Axes>"
            ]
          },
          "metadata": {
            "tags": [],
            "needs_background": "light"
          }
        }
      ]
    },
    {
      "cell_type": "markdown",
      "metadata": {
        "papermill": {
          "duration": 0.016667,
          "end_time": "2021-05-31T12:38:22.771653",
          "exception": false,
          "start_time": "2021-05-31T12:38:22.754986",
          "status": "completed"
        },
        "tags": [],
        "id": "drawn-semiconductor"
      },
      "source": [
        "A better look at the number of Murders as per the city and the age groups is provided by this graph.\n",
        "\n",
        "It is seen that the number of Murders are following the same order in each of the cities:\n",
        "Men > Women > Children"
      ],
      "id": "drawn-semiconductor"
    },
    {
      "cell_type": "code",
      "metadata": {
        "execution": {
          "iopub.execute_input": "2021-05-31T12:38:22.835762Z",
          "iopub.status.busy": "2021-05-31T12:38:22.826499Z",
          "iopub.status.idle": "2021-05-31T12:38:22.936380Z",
          "shell.execute_reply": "2021-05-31T12:38:22.935773Z",
          "shell.execute_reply.started": "2021-05-31T12:33:01.261128Z"
        },
        "papermill": {
          "duration": 0.148346,
          "end_time": "2021-05-31T12:38:22.936487",
          "exception": false,
          "start_time": "2021-05-31T12:38:22.788141",
          "status": "completed"
        },
        "tags": [],
        "id": "particular-rover",
        "outputId": "eec780fc-10cc-4ac7-9068-640d9d8dc4e2"
      },
      "source": [
        "Kidnapping_dict={'Child':0,'Female':0,'Male':0}\n",
        "\n",
        "for row in df['Kidnnaping:\\nNumber of child victims']:\n",
        "    Kidnapping_dict['Child']+=row\n",
        "\n",
        "for row in df['Number of male(adult) ']:\n",
        "    Kidnapping_dict['Male']+=row\n",
        "\n",
        "for row in df['Number of female(adult)']:\n",
        "    Kidnapping_dict['Female']+=row\n",
        "\n",
        "divisions=[\"Male\", \"Child\",\"Female\"]\n",
        "Kidnapping=[Kidnapping_dict['Male'],Kidnapping_dict['Child'],Kidnapping_dict['Female']]\n",
        "plt.bar(divisions,Murders,color='red')\n",
        "plt.xlabel(\"Types of people\")\n",
        "plt.ylabel(\"Kidnappings\")\n",
        "plt.title(\"Kidnappings in UP\")\n",
        "plt.show()\n",
        "print(pd.DataFrame(list(Kidnapping_dict.items()),columns=['Types of People','Kidnappings']))"
      ],
      "id": "particular-rover",
      "execution_count": null,
      "outputs": [
        {
          "output_type": "display_data",
          "data": {
            "image/png": "[encoded data removed]",
            "text/plain": [
              "<Figure size 432x288 with 1 Axes>"
            ]
          },
          "metadata": {
            "tags": [],
            "needs_background": "light"
          }
        },
        {
          "output_type": "stream",
          "text": [
            "  Types of People  Kidnappings\n",
            "0           Child         13.0\n",
            "1          Female          3.0\n",
            "2            Male         10.0\n"
          ],
          "name": "stdout"
        }
      ]
    },
    {
      "cell_type": "markdown",
      "metadata": {
        "papermill": {
          "duration": 0.016938,
          "end_time": "2021-05-31T12:38:22.970987",
          "exception": false,
          "start_time": "2021-05-31T12:38:22.954049",
          "status": "completed"
        },
        "tags": [],
        "id": "metallic-count"
      },
      "source": [
        "The cases of Kidnappings in the state according to age groups is represented above."
      ],
      "id": "metallic-count"
    },
    {
      "cell_type": "code",
      "metadata": {
        "execution": {
          "iopub.execute_input": "2021-05-31T12:38:23.019584Z",
          "iopub.status.busy": "2021-05-31T12:38:23.013993Z",
          "iopub.status.idle": "2021-05-31T12:38:23.025604Z",
          "shell.execute_reply": "2021-05-31T12:38:23.025075Z",
          "shell.execute_reply.started": "2021-05-31T12:33:01.418636Z"
        },
        "papermill": {
          "duration": 0.037462,
          "end_time": "2021-05-31T12:38:23.025722",
          "exception": false,
          "start_time": "2021-05-31T12:38:22.988260",
          "status": "completed"
        },
        "tags": [],
        "id": "stock-ambassador"
      },
      "source": [
        "a=[]\n",
        "Crime_Women={}\n",
        "Affected={}\n",
        "count=0\n",
        "for row in df['Crime Against Women ( Combined ):\\n1. Murder with Rape \\n2. Dowry Deaths(Sec. 3048)\\n3. Suicide(sec 305/306)\\n4. Kidnapping(All)\\n5. Acid Attack(Sec. 326A IPC)\\n6. Cruelty by Husband/in-laws((Sec.498 A IPC)\\n7. Rape only(Sec. 376 or 511 IPC)\\n8. Assault on Women with Intent to Outrage her Modesty (Sec. 354 IPC)\\n9. Cyber Crimes against Women\\n10. Protection of Children from Sexual Offences Act']:\n",
        "    str(row).lstrip()\n",
        "    a=[int(i) for i in str(row).split(',')]\n",
        "    for x in a:\n",
        "        if x==0 or x>10:\n",
        "            continue\n",
        "        if not x in Crime_Women:\n",
        "            Crime_Women[x]=1  \n",
        "            Affected[x]=df['Number of adult victims'][count]+df['Number of childs invoved'][count]  \n",
        "        else:\n",
        "            Crime_Women[x]+=1\n",
        "            Affected[x]+=df['Number of adult victims'][count]+df['Number of childs invoved'][count]\n",
        "    count+=1        \n"
      ],
      "id": "stock-ambassador",
      "execution_count": null,
      "outputs": []
    },
    {
      "cell_type": "markdown",
      "metadata": {
        "papermill": {
          "duration": 0.017719,
          "end_time": "2021-05-31T12:38:23.062050",
          "exception": false,
          "start_time": "2021-05-31T12:38:23.044331",
          "status": "completed"
        },
        "tags": [],
        "id": "macro-essence"
      },
      "source": [
        "The Crime against Women are the main issues of concern for today's society.\n",
        "\n",
        "The above code calculates the victims of the crimes and also the different types of crimes commited."
      ],
      "id": "macro-essence"
    },
    {
      "cell_type": "code",
      "metadata": {
        "execution": {
          "iopub.execute_input": "2021-05-31T12:38:23.113073Z",
          "iopub.status.busy": "2021-05-31T12:38:23.112504Z",
          "iopub.status.idle": "2021-05-31T12:38:23.217288Z",
          "shell.execute_reply": "2021-05-31T12:38:23.216683Z",
          "shell.execute_reply.started": "2021-05-31T12:33:01.443038Z"
        },
        "papermill": {
          "duration": 0.137014,
          "end_time": "2021-05-31T12:38:23.217402",
          "exception": false,
          "start_time": "2021-05-31T12:38:23.080388",
          "status": "completed"
        },
        "tags": [],
        "id": "regular-youth",
        "outputId": "5a3cf64e-a8a8-448c-f060-50ca90884dc0"
      },
      "source": [
        "Age_Crimes=[]\n",
        "count=0\n",
        "for row in df['Number of adult victims']:\n",
        "    count+=row\n",
        "Age_Crimes.append(count)\n",
        "\n",
        "count=0\n",
        "for row in df['Number of childs invoved']:\n",
        "  count+=row\n",
        "Age_Crimes.append(count)\n",
        "\n",
        "plt.pie(Age_Crimes,labels=['Adult','Minor'])\n",
        "plt.legend()\n",
        "plt.show()"
      ],
      "id": "regular-youth",
      "execution_count": null,
      "outputs": [
        {
          "output_type": "display_data",
          "data": {
            "image/png": "[encoded data removed]",
            "text/plain": [
              "<Figure size 432x288 with 1 Axes>"
            ]
          },
          "metadata": {
            "tags": []
          }
        }
      ]
    },
    {
      "cell_type": "markdown",
      "metadata": {
        "papermill": {
          "duration": 0.018184,
          "end_time": "2021-05-31T12:38:23.253568",
          "exception": false,
          "start_time": "2021-05-31T12:38:23.235384",
          "status": "completed"
        },
        "tags": [],
        "id": "concrete-gospel"
      },
      "source": [
        "This pie chart shows proportion of the crimes commited as per the age groups affected.\n",
        "The adult females are more affected although the number of children affected by it is also alarming.\n"
      ],
      "id": "concrete-gospel"
    },
    {
      "cell_type": "code",
      "metadata": {
        "execution": {
          "iopub.execute_input": "2021-05-31T12:38:23.319041Z",
          "iopub.status.busy": "2021-05-31T12:38:23.311393Z",
          "iopub.status.idle": "2021-05-31T12:38:23.476269Z",
          "shell.execute_reply": "2021-05-31T12:38:23.476625Z",
          "shell.execute_reply.started": "2021-05-31T12:33:01.620293Z"
        },
        "papermill": {
          "duration": 0.203638,
          "end_time": "2021-05-31T12:38:23.476754",
          "exception": false,
          "start_time": "2021-05-31T12:38:23.273116",
          "status": "completed"
        },
        "tags": [],
        "id": "placed-tackle",
        "outputId": "818250c1-12b9-4906-ae48-95ae3d046967"
      },
      "source": [
        "divisions=['Murder with Rape ', ' Dowry Deaths(Sec. 3048)', 'Suicide(sec 305/306)', 'Kidnapping(All)', 'Acid Attack(Sec. 326A IPC)', 'Cruelty by Husband/in-laws((Sec.498 A IPC)','Rape only(Sec. 376 or 511 IPC)','Assault on Women with Intent to Outrage her Modesty (Sec. 354 IPC)','Cyber Crimes against Women','Protection of Children from Sexual Offences Act']    \n",
        "Number_Crimes=[]\n",
        "for x in Crime_Women.values():\n",
        "    Number_Crimes.append(x)\n",
        "#print(Number_Crimes)\n",
        "plt.bar(divisions,Number_Crimes,color='red')\n",
        "plt.xlabel(\"Types of Crimes\")\n",
        "plt.ylabel(\"Number of crimes\")\n",
        "plt.title(\"Crime against Women\")\n",
        "plt.xticks(rotation='vertical')\n",
        "plt.show()\n",
        "print(pd.DataFrame(list(zip(divisions,Number_Crimes)),columns=['Type of Crimes','Number of Crimes']))"
      ],
      "id": "placed-tackle",
      "execution_count": null,
      "outputs": [
        {
          "output_type": "display_data",
          "data": {
            "image/png": "[encoded data removed]",
            "text/plain": [
              "<Figure size 432x288 with 1 Axes>"
            ]
          },
          "metadata": {
            "tags": [],
            "needs_background": "light"
          }
        },
        {
          "output_type": "stream",
          "text": [
            "                                      Type of Crimes  Number of Crimes\n",
            "0                                  Murder with Rape                 63\n",
            "1                            Dowry Deaths(Sec. 3048)                49\n",
            "2                               Suicide(sec 305/306)                10\n",
            "3                                    Kidnapping(All)                 7\n",
            "4                         Acid Attack(Sec. 326A IPC)                55\n",
            "5         Cruelty by Husband/in-laws((Sec.498 A IPC)                19\n",
            "6                     Rape only(Sec. 376 or 511 IPC)                25\n",
            "7  Assault on Women with Intent to Outrage her Mo...                19\n",
            "8                         Cyber Crimes against Women                22\n",
            "9    Protection of Children from Sexual Offences Act                 3\n"
          ],
          "name": "stdout"
        }
      ]
    },
    {
      "cell_type": "markdown",
      "metadata": {
        "papermill": {
          "duration": 0.019284,
          "end_time": "2021-05-31T12:38:23.515741",
          "exception": false,
          "start_time": "2021-05-31T12:38:23.496457",
          "status": "completed"
        },
        "tags": [],
        "id": "worst-vault"
      },
      "source": [
        "This plot shows different reasons for the crimes commited.\n",
        "\n",
        "Clearly the main reason stands \"Murder with Rape\" which is an extremely heinous act.\n",
        "\n",
        "The Dowry Deaths is also a type of crime which should be controllled and can mainly be brought about by the empowerment of people.\n",
        "\n",
        "Also the reasons 6,7 and 8 seem to be closely related ."
      ],
      "id": "worst-vault"
    },
    {
      "cell_type": "code",
      "metadata": {
        "execution": {
          "iopub.execute_input": "2021-05-31T12:38:23.557750Z",
          "iopub.status.busy": "2021-05-31T12:38:23.557295Z",
          "iopub.status.idle": "2021-05-31T12:38:23.742574Z",
          "shell.execute_reply": "2021-05-31T12:38:23.743014Z",
          "shell.execute_reply.started": "2021-05-31T12:33:01.868384Z"
        },
        "papermill": {
          "duration": 0.207823,
          "end_time": "2021-05-31T12:38:23.743158",
          "exception": false,
          "start_time": "2021-05-31T12:38:23.535335",
          "status": "completed"
        },
        "tags": [],
        "id": "cleared-youth",
        "outputId": "11101944-9508-4e35-dca5-689adc8b8bc5"
      },
      "source": [
        "divisions=['Murder with Rape ', ' Dowry Deaths(Sec. 3048)', 'Suicide(sec 305/306)', 'Kidnapping(All)', 'Acid Attack(Sec. 326A IPC)', 'Cruelty by Husband/in-laws((Sec.498 A IPC)','Rape only(Sec. 376 or 511 IPC)','Assault on Women with Intent to Outrage her Modesty (Sec. 354 IPC)','Cyber Crimes against Women','Protection of Children from Sexual Offences Act']    \n",
        "global Affected\n",
        "\n",
        "Society_Affect=[]\n",
        "\n",
        "#print(Affected)\n",
        "for x in range(1,11):\n",
        "  Society_Affect.append(Affected[x]*Number_Crimes[x-1])\n",
        "plt.bar(divisions,Society_Affect,color='red')\n",
        "plt.xlabel(\"Types of Crime\")\n",
        "plt.ylabel(\"Affect on Society Index\")\n",
        "plt.title(\"Effect of Different Crimes on Women on Society\")\n",
        "plt.xticks(rotation='vertical')\n",
        "plt.show()\n",
        "print(pd.DataFrame(list(Society_Affect),index=divisions))\n"
      ],
      "id": "cleared-youth",
      "execution_count": null,
      "outputs": [
        {
          "output_type": "display_data",
          "data": {
            "image/png": "[encoded data removed]",
            "text/plain": [
              "<Figure size 432x288 with 1 Axes>"
            ]
          },
          "metadata": {
            "tags": [],
            "needs_background": "light"
          }
        },
        {
          "output_type": "stream",
          "text": [
            "                                                         0\n",
            "Murder with Rape                                    1260.0\n",
            " Dowry Deaths(Sec. 3048)                             931.0\n",
            "Suicide(sec 305/306)                                 260.0\n",
            "Kidnapping(All)                                       49.0\n",
            "Acid Attack(Sec. 326A IPC)                           385.0\n",
            "Cruelty by Husband/in-laws((Sec.498 A IPC)           418.0\n",
            "Rape only(Sec. 376 or 511 IPC)                      1500.0\n",
            "Assault on Women with Intent to Outrage her Mod...  1292.0\n",
            "Cyber Crimes against Women                           220.0\n",
            "Protection of Children from Sexual Offences Act      165.0\n"
          ],
          "name": "stdout"
        }
      ]
    },
    {
      "cell_type": "markdown",
      "metadata": {
        "papermill": {
          "duration": 0.021016,
          "end_time": "2021-05-31T12:38:23.785219",
          "exception": false,
          "start_time": "2021-05-31T12:38:23.764203",
          "status": "completed"
        },
        "tags": [],
        "id": "unlike-tiffany"
      },
      "source": [
        "On multiplying the number of crimes of a paticular type and the people affected by it, we get the effect of that crime on the society and clearly from the above plot, \"Rape only\" is the crime which has worsely affected the society and serious action should be taken against it."
      ],
      "id": "unlike-tiffany"
    }
  ]
}